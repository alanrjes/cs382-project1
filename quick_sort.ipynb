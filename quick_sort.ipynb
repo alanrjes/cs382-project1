{
 "cells": [
  {
   "cell_type": "code",
   "execution_count": 1,
   "metadata": {},
   "outputs": [],
   "source": [
    "import numpy as np\n",
    "import math"
   ]
  },
  {
   "cell_type": "code",
   "execution_count": 132,
   "metadata": {},
   "outputs": [],
   "source": [
    "def partition(A):\n",
    "    n = len(A)\n",
    "    x = A[n-1]\n",
    "    i = -1\n",
    "    for j in range(0,n-1):\n",
    "        if (A[j] <= x):\n",
    "            i += 1\n",
    "            A[i],A[j] = A[j], A[i]\n",
    "    A[i+1], A[n-1] = A[n-1], A[i+1]\n",
    "    return i+1\n",
    "\n",
    "def quick_sort(A):\n",
    "    n = len(A)\n",
    "    if (n <= 1):\n",
    "        return A\n",
    "    q = partition(A)\n",
    "    L = quick_sort(A[0:q])\n",
    "    H = quick_sort(A[q+1:n])\n",
    "    return L + [A[q]] + H"
   ]
  },
  {
   "cell_type": "code",
   "execution_count": 133,
   "metadata": {},
   "outputs": [
    {
     "data": {
      "text/plain": [
       "[1, 2, 3, 5, 5, 7, 9]"
      ]
     },
     "execution_count": 133,
     "metadata": {},
     "output_type": "execute_result"
    }
   ],
   "source": [
    "A = [1,5,9,3,5,2,7]\n",
    "quick_sort(A)"
   ]
  }
 ],
 "metadata": {
  "kernelspec": {
   "display_name": "Python 3",
   "language": "python",
   "name": "python3"
  },
  "language_info": {
   "codemirror_mode": {
    "name": "ipython",
    "version": 3
   },
   "file_extension": ".py",
   "mimetype": "text/x-python",
   "name": "python",
   "nbconvert_exporter": "python",
   "pygments_lexer": "ipython3",
   "version": "3.11.5"
  }
 },
 "nbformat": 4,
 "nbformat_minor": 4
}
